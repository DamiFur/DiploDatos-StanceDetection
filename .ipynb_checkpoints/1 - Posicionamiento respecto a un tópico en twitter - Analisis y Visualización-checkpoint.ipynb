{
 "cells": [
  {
   "cell_type": "markdown",
   "metadata": {},
   "source": [
    "# Segmentación de los datos"
   ]
  },
  {
   "cell_type": "markdown",
   "metadata": {},
   "source": [
    "A mi me gusta poner todos los imports arriba de todo"
   ]
  },
  {
   "cell_type": "code",
   "execution_count": 4,
   "metadata": {},
   "outputs": [],
   "source": [
    "import pandas as pd"
   ]
  },
  {
   "cell_type": "markdown",
   "metadata": {},
   "source": [
    "## Levantamos los datos etiquetados"
   ]
  },
  {
   "cell_type": "markdown",
   "metadata": {},
   "source": [
    "Para que tengan un poco de contexto, los datos fueron sacados de una competencia internacional, la SemEval 2016 Task 6. Les dejo acá la página por si quieren ver qué hicieron los competidores con estos datos, los análisis de los dataset y los resultados (busquen el paper de la competencia) y información general: http://alt.qcri.org/semeval2016/task6/"
   ]
  },
  {
   "cell_type": "code",
   "execution_count": 12,
   "metadata": {},
   "outputs": [],
   "source": [
    "train = pd.read_csv(\"train.csv\", sep=\",\", encoding=\"latin1\").fillna(method=\"ffill\")\n",
    "test = pd.read_csv(\"test.csv\", sep=\",\", encoding=\"latin1\").fillna(method=\"ffill\")"
   ]
  },
  {
   "cell_type": "markdown",
   "metadata": {},
   "source": [
    "Vemos los datos que levantamos. Yo lo dejo hecho para Train y ustedes hacen lo mismo para Test:"
   ]
  },
  {
   "cell_type": "code",
   "execution_count": 15,
   "metadata": {},
   "outputs": [
    {
     "data": {
      "text/html": [
       "<div>\n",
       "<style scoped>\n",
       "    .dataframe tbody tr th:only-of-type {\n",
       "        vertical-align: middle;\n",
       "    }\n",
       "\n",
       "    .dataframe tbody tr th {\n",
       "        vertical-align: top;\n",
       "    }\n",
       "\n",
       "    .dataframe thead th {\n",
       "        text-align: right;\n",
       "    }\n",
       "</style>\n",
       "<table border=\"1\" class=\"dataframe\">\n",
       "  <thead>\n",
       "    <tr style=\"text-align: right;\">\n",
       "      <th></th>\n",
       "      <th>Tweet</th>\n",
       "      <th>Target</th>\n",
       "      <th>Stance</th>\n",
       "      <th>Opinion Towards</th>\n",
       "      <th>Sentiment</th>\n",
       "    </tr>\n",
       "  </thead>\n",
       "  <tbody>\n",
       "    <tr>\n",
       "      <th>0</th>\n",
       "      <td>@tedcruz And, #HandOverTheServer she wiped cle...</td>\n",
       "      <td>Hillary Clinton</td>\n",
       "      <td>AGAINST</td>\n",
       "      <td>1.  The tweet explicitly expresses opinion abo...</td>\n",
       "      <td>neg</td>\n",
       "    </tr>\n",
       "    <tr>\n",
       "      <th>1</th>\n",
       "      <td>Hillary is our best choice if we truly want to...</td>\n",
       "      <td>Hillary Clinton</td>\n",
       "      <td>FAVOR</td>\n",
       "      <td>1.  The tweet explicitly expresses opinion abo...</td>\n",
       "      <td>pos</td>\n",
       "    </tr>\n",
       "    <tr>\n",
       "      <th>2</th>\n",
       "      <td>@TheView I think our country is ready for a fe...</td>\n",
       "      <td>Hillary Clinton</td>\n",
       "      <td>AGAINST</td>\n",
       "      <td>1.  The tweet explicitly expresses opinion abo...</td>\n",
       "      <td>neg</td>\n",
       "    </tr>\n",
       "    <tr>\n",
       "      <th>3</th>\n",
       "      <td>I just gave an unhealthy amount of my hard-ear...</td>\n",
       "      <td>Hillary Clinton</td>\n",
       "      <td>AGAINST</td>\n",
       "      <td>1.  The tweet explicitly expresses opinion abo...</td>\n",
       "      <td>neg</td>\n",
       "    </tr>\n",
       "    <tr>\n",
       "      <th>4</th>\n",
       "      <td>@PortiaABoulger Thank you for adding me to you...</td>\n",
       "      <td>Hillary Clinton</td>\n",
       "      <td>NONE</td>\n",
       "      <td>3.  The tweet is not explicitly expressing opi...</td>\n",
       "      <td>pos</td>\n",
       "    </tr>\n",
       "  </tbody>\n",
       "</table>\n",
       "</div>"
      ],
      "text/plain": [
       "                                               Tweet           Target  \\\n",
       "0  @tedcruz And, #HandOverTheServer she wiped cle...  Hillary Clinton   \n",
       "1  Hillary is our best choice if we truly want to...  Hillary Clinton   \n",
       "2  @TheView I think our country is ready for a fe...  Hillary Clinton   \n",
       "3  I just gave an unhealthy amount of my hard-ear...  Hillary Clinton   \n",
       "4  @PortiaABoulger Thank you for adding me to you...  Hillary Clinton   \n",
       "\n",
       "    Stance                                    Opinion Towards Sentiment  \n",
       "0  AGAINST  1.  The tweet explicitly expresses opinion abo...       neg  \n",
       "1    FAVOR  1.  The tweet explicitly expresses opinion abo...       pos  \n",
       "2  AGAINST  1.  The tweet explicitly expresses opinion abo...       neg  \n",
       "3  AGAINST  1.  The tweet explicitly expresses opinion abo...       neg  \n",
       "4     NONE  3.  The tweet is not explicitly expressing opi...       pos  "
      ]
     },
     "execution_count": 15,
     "metadata": {},
     "output_type": "execute_result"
    }
   ],
   "source": [
    "train.head(5) #Si quieren ver mas cambian el parametro de 5 a lo que quieran"
   ]
  },
  {
   "cell_type": "markdown",
   "metadata": {},
   "source": [
    "Contamos cuantos tweets hay para cada stance y para cada target. Es importante ver si las clases están balanceadas y si hay desbalance cuan pronunciado es y hacia qué clase. Notar qué sucede por ejemplo con Climate Change, que vamos a usar después."
   ]
  },
  {
   "cell_type": "code",
   "execution_count": 14,
   "metadata": {},
   "outputs": [
    {
     "data": {
      "text/html": [
       "<div>\n",
       "<style scoped>\n",
       "    .dataframe tbody tr th:only-of-type {\n",
       "        vertical-align: middle;\n",
       "    }\n",
       "\n",
       "    .dataframe tbody tr th {\n",
       "        vertical-align: top;\n",
       "    }\n",
       "\n",
       "    .dataframe thead th {\n",
       "        text-align: right;\n",
       "    }\n",
       "</style>\n",
       "<table border=\"1\" class=\"dataframe\">\n",
       "  <thead>\n",
       "    <tr style=\"text-align: right;\">\n",
       "      <th></th>\n",
       "      <th>Target</th>\n",
       "      <th>Stance</th>\n",
       "      <th>0</th>\n",
       "    </tr>\n",
       "  </thead>\n",
       "  <tbody>\n",
       "    <tr>\n",
       "      <th>0</th>\n",
       "      <td>Atheism</td>\n",
       "      <td>AGAINST</td>\n",
       "      <td>304</td>\n",
       "    </tr>\n",
       "    <tr>\n",
       "      <th>1</th>\n",
       "      <td>Atheism</td>\n",
       "      <td>FAVOR</td>\n",
       "      <td>92</td>\n",
       "    </tr>\n",
       "    <tr>\n",
       "      <th>2</th>\n",
       "      <td>Atheism</td>\n",
       "      <td>NONE</td>\n",
       "      <td>117</td>\n",
       "    </tr>\n",
       "    <tr>\n",
       "      <th>3</th>\n",
       "      <td>Climate Change is a Real Concern</td>\n",
       "      <td>AGAINST</td>\n",
       "      <td>15</td>\n",
       "    </tr>\n",
       "    <tr>\n",
       "      <th>4</th>\n",
       "      <td>Climate Change is a Real Concern</td>\n",
       "      <td>FAVOR</td>\n",
       "      <td>212</td>\n",
       "    </tr>\n",
       "    <tr>\n",
       "      <th>5</th>\n",
       "      <td>Climate Change is a Real Concern</td>\n",
       "      <td>NONE</td>\n",
       "      <td>168</td>\n",
       "    </tr>\n",
       "    <tr>\n",
       "      <th>6</th>\n",
       "      <td>Feminist Movement</td>\n",
       "      <td>AGAINST</td>\n",
       "      <td>328</td>\n",
       "    </tr>\n",
       "    <tr>\n",
       "      <th>7</th>\n",
       "      <td>Feminist Movement</td>\n",
       "      <td>FAVOR</td>\n",
       "      <td>210</td>\n",
       "    </tr>\n",
       "    <tr>\n",
       "      <th>8</th>\n",
       "      <td>Feminist Movement</td>\n",
       "      <td>NONE</td>\n",
       "      <td>126</td>\n",
       "    </tr>\n",
       "    <tr>\n",
       "      <th>9</th>\n",
       "      <td>Hillary Clinton</td>\n",
       "      <td>AGAINST</td>\n",
       "      <td>393</td>\n",
       "    </tr>\n",
       "    <tr>\n",
       "      <th>10</th>\n",
       "      <td>Hillary Clinton</td>\n",
       "      <td>FAVOR</td>\n",
       "      <td>118</td>\n",
       "    </tr>\n",
       "    <tr>\n",
       "      <th>11</th>\n",
       "      <td>Hillary Clinton</td>\n",
       "      <td>NONE</td>\n",
       "      <td>178</td>\n",
       "    </tr>\n",
       "    <tr>\n",
       "      <th>12</th>\n",
       "      <td>Legalization of Abortion</td>\n",
       "      <td>AGAINST</td>\n",
       "      <td>355</td>\n",
       "    </tr>\n",
       "    <tr>\n",
       "      <th>13</th>\n",
       "      <td>Legalization of Abortion</td>\n",
       "      <td>FAVOR</td>\n",
       "      <td>121</td>\n",
       "    </tr>\n",
       "    <tr>\n",
       "      <th>14</th>\n",
       "      <td>Legalization of Abortion</td>\n",
       "      <td>NONE</td>\n",
       "      <td>177</td>\n",
       "    </tr>\n",
       "  </tbody>\n",
       "</table>\n",
       "</div>"
      ],
      "text/plain": [
       "                              Target   Stance    0\n",
       "0                            Atheism  AGAINST  304\n",
       "1                            Atheism    FAVOR   92\n",
       "2                            Atheism     NONE  117\n",
       "3   Climate Change is a Real Concern  AGAINST   15\n",
       "4   Climate Change is a Real Concern    FAVOR  212\n",
       "5   Climate Change is a Real Concern     NONE  168\n",
       "6                  Feminist Movement  AGAINST  328\n",
       "7                  Feminist Movement    FAVOR  210\n",
       "8                  Feminist Movement     NONE  126\n",
       "9                    Hillary Clinton  AGAINST  393\n",
       "10                   Hillary Clinton    FAVOR  118\n",
       "11                   Hillary Clinton     NONE  178\n",
       "12          Legalization of Abortion  AGAINST  355\n",
       "13          Legalization of Abortion    FAVOR  121\n",
       "14          Legalization of Abortion     NONE  177"
      ]
     },
     "execution_count": 14,
     "metadata": {},
     "output_type": "execute_result"
    }
   ],
   "source": [
    "stances = train.groupby([\"Target\", \"Stance\"]).size().reset_index()\n",
    "stances"
   ]
  },
  {
   "cell_type": "markdown",
   "metadata": {},
   "source": [
    "La función describe nos da estadísticas generales del dataset"
   ]
  },
  {
   "cell_type": "code",
   "execution_count": 18,
   "metadata": {},
   "outputs": [
    {
     "data": {
      "text/html": [
       "<div>\n",
       "<style scoped>\n",
       "    .dataframe tbody tr th:only-of-type {\n",
       "        vertical-align: middle;\n",
       "    }\n",
       "\n",
       "    .dataframe tbody tr th {\n",
       "        vertical-align: top;\n",
       "    }\n",
       "\n",
       "    .dataframe thead th {\n",
       "        text-align: right;\n",
       "    }\n",
       "</style>\n",
       "<table border=\"1\" class=\"dataframe\">\n",
       "  <thead>\n",
       "    <tr style=\"text-align: right;\">\n",
       "      <th></th>\n",
       "      <th>Tweet</th>\n",
       "      <th>Target</th>\n",
       "      <th>Stance</th>\n",
       "      <th>Opinion Towards</th>\n",
       "      <th>Sentiment</th>\n",
       "    </tr>\n",
       "  </thead>\n",
       "  <tbody>\n",
       "    <tr>\n",
       "      <th>count</th>\n",
       "      <td>2914</td>\n",
       "      <td>2914</td>\n",
       "      <td>2914</td>\n",
       "      <td>2914</td>\n",
       "      <td>2914</td>\n",
       "    </tr>\n",
       "    <tr>\n",
       "      <th>unique</th>\n",
       "      <td>2914</td>\n",
       "      <td>5</td>\n",
       "      <td>3</td>\n",
       "      <td>3</td>\n",
       "      <td>3</td>\n",
       "    </tr>\n",
       "    <tr>\n",
       "      <th>top</th>\n",
       "      <td>What is wrong with you people. Women with self...</td>\n",
       "      <td>Hillary Clinton</td>\n",
       "      <td>AGAINST</td>\n",
       "      <td>1.  The tweet explicitly expresses opinion abo...</td>\n",
       "      <td>neg</td>\n",
       "    </tr>\n",
       "    <tr>\n",
       "      <th>freq</th>\n",
       "      <td>1</td>\n",
       "      <td>689</td>\n",
       "      <td>1395</td>\n",
       "      <td>1716</td>\n",
       "      <td>1762</td>\n",
       "    </tr>\n",
       "  </tbody>\n",
       "</table>\n",
       "</div>"
      ],
      "text/plain": [
       "                                                    Tweet           Target  \\\n",
       "count                                                2914             2914   \n",
       "unique                                               2914                5   \n",
       "top     What is wrong with you people. Women with self...  Hillary Clinton   \n",
       "freq                                                    1              689   \n",
       "\n",
       "         Stance                                    Opinion Towards Sentiment  \n",
       "count      2914                                               2914      2914  \n",
       "unique        3                                                  3         3  \n",
       "top     AGAINST  1.  The tweet explicitly expresses opinion abo...       neg  \n",
       "freq       1395                                               1716      1762  "
      ]
     },
     "execution_count": 18,
     "metadata": {},
     "output_type": "execute_result"
    }
   ],
   "source": [
    "train.describe(include = 'all')"
   ]
  },
  {
   "cell_type": "markdown",
   "metadata": {},
   "source": [
    "Nosotros vamos a trabajar sobre todo con la columna \"Stance\" como nuestra etiqueta, pero exploremos las otras dos (Opinion y Sentiment) para ver qué información tienen..."
   ]
  },
  {
   "cell_type": "code",
   "execution_count": 19,
   "metadata": {},
   "outputs": [
    {
     "data": {
      "text/plain": [
       "array(['1.  The tweet explicitly expresses opinion about the target, a part of the target, or an aspect of the target.',\n",
       "       '3.  The tweet is not explicitly expressing opinion. (For example, the tweet is simply giving information.)',\n",
       "       '2. The tweet does NOT expresses opinion about the target but it HAS opinion about something or someone other than the target.'],\n",
       "      dtype=object)"
      ]
     },
     "execution_count": 19,
     "metadata": {},
     "output_type": "execute_result"
    }
   ],
   "source": [
    "train[\"Opinion Towards\"].unique()"
   ]
  },
  {
   "cell_type": "code",
   "execution_count": 20,
   "metadata": {},
   "outputs": [
    {
     "data": {
      "text/plain": [
       "1.  The tweet explicitly expresses opinion about the target, a part of the target, or an aspect of the target.                   0.588881\n",
       "2. The tweet does NOT expresses opinion about the target but it HAS opinion about something or someone other than the target.    0.351407\n",
       "3.  The tweet is not explicitly expressing opinion. (For example, the tweet is simply giving information.)                       0.059712\n",
       "Name: Opinion Towards, dtype: float64"
      ]
     },
     "execution_count": 20,
     "metadata": {},
     "output_type": "execute_result"
    }
   ],
   "source": [
    "train[\"Opinion Towards\"].value_counts(normalize = True)"
   ]
  },
  {
   "cell_type": "markdown",
   "metadata": {},
   "source": [
    "Prueben filtrar por valores y buscar combinaciones que les puedan parecer interesantes. Por ejemplo, acá buscamos tweets que no tengan un posicionamiento definido respecto al tópico pero que sin embargo expresen opinion"
   ]
  },
  {
   "cell_type": "code",
   "execution_count": 38,
   "metadata": {},
   "outputs": [
    {
     "name": "stderr",
     "output_type": "stream",
     "text": [
      "/home/damifur/anaconda3/lib/python3.7/site-packages/ipykernel_launcher.py:1: UserWarning: Boolean Series key will be reindexed to match DataFrame index.\n",
      "  \"\"\"Entry point for launching an IPython kernel.\n"
     ]
    },
    {
     "data": {
      "text/html": [
       "<div>\n",
       "<style scoped>\n",
       "    .dataframe tbody tr th:only-of-type {\n",
       "        vertical-align: middle;\n",
       "    }\n",
       "\n",
       "    .dataframe tbody tr th {\n",
       "        vertical-align: top;\n",
       "    }\n",
       "\n",
       "    .dataframe thead th {\n",
       "        text-align: right;\n",
       "    }\n",
       "</style>\n",
       "<table border=\"1\" class=\"dataframe\">\n",
       "  <thead>\n",
       "    <tr style=\"text-align: right;\">\n",
       "      <th></th>\n",
       "      <th>Tweet</th>\n",
       "      <th>Target</th>\n",
       "      <th>Stance</th>\n",
       "      <th>Opinion Towards</th>\n",
       "      <th>Sentiment</th>\n",
       "    </tr>\n",
       "  </thead>\n",
       "  <tbody>\n",
       "    <tr>\n",
       "      <th>346</th>\n",
       "      <td>atheism involves what a person does or does no...</td>\n",
       "      <td>Atheism</td>\n",
       "      <td>NONE</td>\n",
       "      <td>1.  The tweet explicitly expresses opinion abo...</td>\n",
       "      <td>other</td>\n",
       "    </tr>\n",
       "    <tr>\n",
       "      <th>762</th>\n",
       "      <td>@realDonaldTrump - You are not very smart Dona...</td>\n",
       "      <td>Climate Change is a Real Concern</td>\n",
       "      <td>NONE</td>\n",
       "      <td>1.  The tweet explicitly expresses opinion abo...</td>\n",
       "      <td>neg</td>\n",
       "    </tr>\n",
       "    <tr>\n",
       "      <th>816</th>\n",
       "      <td>We need to work with confidence, transparence ...</td>\n",
       "      <td>Climate Change is a Real Concern</td>\n",
       "      <td>NONE</td>\n",
       "      <td>1.  The tweet explicitly expresses opinion abo...</td>\n",
       "      <td>pos</td>\n",
       "    </tr>\n",
       "    <tr>\n",
       "      <th>1129</th>\n",
       "      <td>Hey, all you #prolife-ers, if Socrates was bor...</td>\n",
       "      <td>Feminist Movement</td>\n",
       "      <td>NONE</td>\n",
       "      <td>1.  The tweet explicitly expresses opinion abo...</td>\n",
       "      <td>neg</td>\n",
       "    </tr>\n",
       "    <tr>\n",
       "      <th>1174</th>\n",
       "      <td>.@cooImemegirl @TC_Stompa So what? It is a man...</td>\n",
       "      <td>Feminist Movement</td>\n",
       "      <td>NONE</td>\n",
       "      <td>1.  The tweet explicitly expresses opinion abo...</td>\n",
       "      <td>neg</td>\n",
       "    </tr>\n",
       "    <tr>\n",
       "      <th>1410</th>\n",
       "      <td>@E__Strobel @rsmccain @instapundit @CHSommers ...</td>\n",
       "      <td>Feminist Movement</td>\n",
       "      <td>NONE</td>\n",
       "      <td>1.  The tweet explicitly expresses opinion abo...</td>\n",
       "      <td>neg</td>\n",
       "    </tr>\n",
       "    <tr>\n",
       "      <th>1626</th>\n",
       "      <td>@orange_kae a lot of people get indoctrinated ...</td>\n",
       "      <td>Feminist Movement</td>\n",
       "      <td>NONE</td>\n",
       "      <td>1.  The tweet explicitly expresses opinion abo...</td>\n",
       "      <td>other</td>\n",
       "    </tr>\n",
       "    <tr>\n",
       "      <th>2510</th>\n",
       "      <td>@charlescwcooke @HillaryClinton Once they're b...</td>\n",
       "      <td>Legalization of Abortion</td>\n",
       "      <td>NONE</td>\n",
       "      <td>1.  The tweet explicitly expresses opinion abo...</td>\n",
       "      <td>other</td>\n",
       "    </tr>\n",
       "    <tr>\n",
       "      <th>2752</th>\n",
       "      <td>RT @modernwerewolf: Why doesn't anyone congrat...</td>\n",
       "      <td>Legalization of Abortion</td>\n",
       "      <td>NONE</td>\n",
       "      <td>1.  The tweet explicitly expresses opinion abo...</td>\n",
       "      <td>neg</td>\n",
       "    </tr>\n",
       "  </tbody>\n",
       "</table>\n",
       "</div>"
      ],
      "text/plain": [
       "                                                  Tweet  \\\n",
       "346   atheism involves what a person does or does no...   \n",
       "762   @realDonaldTrump - You are not very smart Dona...   \n",
       "816   We need to work with confidence, transparence ...   \n",
       "1129  Hey, all you #prolife-ers, if Socrates was bor...   \n",
       "1174  .@cooImemegirl @TC_Stompa So what? It is a man...   \n",
       "1410  @E__Strobel @rsmccain @instapundit @CHSommers ...   \n",
       "1626  @orange_kae a lot of people get indoctrinated ...   \n",
       "2510  @charlescwcooke @HillaryClinton Once they're b...   \n",
       "2752  RT @modernwerewolf: Why doesn't anyone congrat...   \n",
       "\n",
       "                                Target Stance  \\\n",
       "346                            Atheism   NONE   \n",
       "762   Climate Change is a Real Concern   NONE   \n",
       "816   Climate Change is a Real Concern   NONE   \n",
       "1129                 Feminist Movement   NONE   \n",
       "1174                 Feminist Movement   NONE   \n",
       "1410                 Feminist Movement   NONE   \n",
       "1626                 Feminist Movement   NONE   \n",
       "2510          Legalization of Abortion   NONE   \n",
       "2752          Legalization of Abortion   NONE   \n",
       "\n",
       "                                        Opinion Towards Sentiment  \n",
       "346   1.  The tweet explicitly expresses opinion abo...     other  \n",
       "762   1.  The tweet explicitly expresses opinion abo...       neg  \n",
       "816   1.  The tweet explicitly expresses opinion abo...       pos  \n",
       "1129  1.  The tweet explicitly expresses opinion abo...       neg  \n",
       "1174  1.  The tweet explicitly expresses opinion abo...       neg  \n",
       "1410  1.  The tweet explicitly expresses opinion abo...       neg  \n",
       "1626  1.  The tweet explicitly expresses opinion abo...     other  \n",
       "2510  1.  The tweet explicitly expresses opinion abo...     other  \n",
       "2752  1.  The tweet explicitly expresses opinion abo...       neg  "
      ]
     },
     "execution_count": 38,
     "metadata": {},
     "output_type": "execute_result"
    }
   ],
   "source": [
    "train[(train[\"Stance\"] == \"NONE\")][train[\"Opinion Towards\"] == \"1.  The tweet explicitly expresses opinion about the target, a part of the target, or an aspect of the target.\"]"
   ]
  },
  {
   "cell_type": "markdown",
   "metadata": {},
   "source": [
    "## Ejercicio 1"
   ]
  },
  {
   "cell_type": "markdown",
   "metadata": {},
   "source": [
    "Hacer todo lo que está hecho arriba pero para el dataset de test. Observar bien la distribución de las clases en el dataset (especialmente para el Target Climate Change) y calcular los porcentajes de cada clase. Escribir un parrafito mencionando cuales son los targets con mayor y menor desbalanceo, cómo piensan que esto puede afectar futuros experimentos e ideas que tengan para solucionar posibles problemas"
   ]
  },
  {
   "cell_type": "code",
   "execution_count": null,
   "metadata": {},
   "outputs": [],
   "source": []
  },
  {
   "cell_type": "markdown",
   "metadata": {},
   "source": [
    "### Yapa del Ejercicio 1"
   ]
  },
  {
   "cell_type": "markdown",
   "metadata": {},
   "source": [
    "Observen esto... qué opinan?"
   ]
  },
  {
   "cell_type": "code",
   "execution_count": 49,
   "metadata": {},
   "outputs": [
    {
     "name": "stdout",
     "output_type": "stream",
     "text": [
      "Those who deny women who've been raped abortion are the same ppl who tell rape victims they asked for it. #rape #SemST AGAINST\n"
     ]
    }
   ],
   "source": [
    "abortion = test[test[\"Target\"] == \"Legalization of Abortion\"]\n",
    "print(abortion.loc[982][\"Tweet\"], abortion.loc[982][\"Stance\"])"
   ]
  },
  {
   "cell_type": "markdown",
   "metadata": {},
   "source": [
    "Anécdota: cuando empezamos a trabajar con este dataset descubrimos que había un 28% del dataset de test de aborto, un 10% del dataset de train de feminismo y un 16% del dataset de test de feminismo que estaban obsenamente mal clasificados. Todos los que compitieron en la competencia internacional lo hicieron con este dataset incorrecto y nadie lo notó... Nadie se tomó el trabajo de leer los tweets o ver por qué les daban mal las clasificaciones. En la carpeta \"Para después del ejercicio 1\" van a encontrar tres archivos con los datasets de train y test para feminismo corregidos y test para aborto corregidos. En esta notebook yo voy a seguir trabajando con los datasets originales ya que no debería cambiar mucho los resultados a los efectos de este trabajo. Pero para los siguientes trabajos, les va a cambiar el resultado de sus clasificadores si usan o no usan los datasets corregidos."
   ]
  },
  {
   "cell_type": "markdown",
   "metadata": {},
   "source": [
    "# Un poquito twitter pelado"
   ]
  },
  {
   "cell_type": "markdown",
   "metadata": {},
   "source": [
    "Vamos a empezar a trabajar con los datos de twitter sin etiquetar. Vamos a usar los archivos .csv que compartió Matías levantados del mongo (así no tienen que pelearse con mongo). Si son muy pesados y les vuelven lenta la máquina pueden eliminar la mitad, tres cuartos o la cantidad que necesiten de tweets y trabajar con un dataset más chico. También pueden eliminar campos una vez que hayan importado el archivo (ahora vamos a ver como) dado que en principio vamos a trabajar sólo con tweet.full_text, tweet.retweeted_status.full_text, tweet.user.id_str, y tweet.retweeted_status.user.id_str. Para esta parte, peguen los archivos que mandó Matías en la misma carpeta que esta notebook"
   ]
  },
  {
   "cell_type": "code",
   "execution_count": 50,
   "metadata": {},
   "outputs": [
    {
     "name": "stderr",
     "output_type": "stream",
     "text": [
      "/home/damifur/anaconda3/lib/python3.7/site-packages/IPython/core/interactiveshell.py:3049: DtypeWarning: Columns (18,22,37) have mixed types. Specify dtype option on import or set low_memory=False.\n",
      "  interactivity=interactivity, compiler=compiler, result=result)\n"
     ]
    }
   ],
   "source": [
    "abortion = pd.read_csv(\"abortion_tweets.csv\")"
   ]
  },
  {
   "cell_type": "code",
   "execution_count": 51,
   "metadata": {},
   "outputs": [
    {
     "data": {
      "text/plain": [
       "613550"
      ]
     },
     "execution_count": 51,
     "metadata": {},
     "output_type": "execute_result"
    }
   ],
   "source": [
    "len(abortion)"
   ]
  },
  {
   "cell_type": "code",
   "execution_count": 74,
   "metadata": {},
   "outputs": [
    {
     "data": {
      "text/plain": [
       "95887"
      ]
     },
     "execution_count": 74,
     "metadata": {},
     "output_type": "execute_result"
    }
   ],
   "source": [
    "len(abortion[\"tweet.full_text\"].unique())"
   ]
  },
  {
   "cell_type": "markdown",
   "metadata": {},
   "source": [
    "Hay tweets repetidos! Por supuesto, muchos son retweets y aunque estén repetidos los vamos a usar para construir un grafo de usuarios. Sin embargo... todos los tweets tienen valores validos?"
   ]
  },
  {
   "cell_type": "code",
   "execution_count": 87,
   "metadata": {},
   "outputs": [
    {
     "name": "stdout",
     "output_type": "stream",
     "text": [
      "613550\n",
      "318860\n"
     ]
    }
   ],
   "source": [
    "print(len(abortion[\"tweet.full_text\"]))\n",
    "print(len(abortion[\"tweet.full_text\"].dropna())) #Elimina los tweets que tienen valor NaN (not a number a.k.a. valor inválido) en la columna tweet.full_text"
   ]
  },
  {
   "cell_type": "markdown",
   "metadata": {},
   "source": [
    "Los tweets pueden aparecer en distintas columnas. A veces están en la columna \"tweet.full_text\" y a veces en otras, como por ejemplo \"tweet.retweeted_status.text\". Necesitamos que estén en una misma columna sino va a ser muy dificil trabajar con el dataset. Vamos a definir una función que busque donde está el texto del tweet y lo agregue en una columna nueva (que le puse de nombre \"full_text\", no es muy original, pero es lo que se me ocurrió)"
   ]
  },
  {
   "cell_type": "code",
   "execution_count": 134,
   "metadata": {},
   "outputs": [],
   "source": [
    "import json\n",
    "import numpy\n",
    "def get_text(tweet):\n",
    "    if tweet[\"tweet.retweeted_status.text\"] == tweet[\"tweet.retweeted_status.text\"]:\n",
    "        return tweet[\"tweet.retweeted_status.text\"]\n",
    "    else:\n",
    "        return tweet[\"tweet.full_text\"]"
   ]
  },
  {
   "cell_type": "code",
   "execution_count": 135,
   "metadata": {},
   "outputs": [],
   "source": [
    "abortion[\"full_text\"] = abortion.apply(get_text, axis=1)"
   ]
  },
  {
   "cell_type": "markdown",
   "metadata": {},
   "source": [
    "Muchos tweets están repetidos! Esto es porque muchos retwitean el mismo tweet. Igualmente necesitamos los repetidos porque los vamos a usar luego para armar el grafo de usuarios."
   ]
  },
  {
   "cell_type": "markdown",
   "metadata": {},
   "source": [
    "Vamos a ver si mejoramos la cobertura viendo cuantas filas hay que no estén vacías"
   ]
  },
  {
   "cell_type": "code",
   "execution_count": 137,
   "metadata": {},
   "outputs": [
    {
     "data": {
      "text/plain": [
       "535492"
      ]
     },
     "execution_count": 137,
     "metadata": {},
     "output_type": "execute_result"
    }
   ],
   "source": [
    "len(abortion[\"full_text\"].dropna())"
   ]
  },
  {
   "cell_type": "markdown",
   "metadata": {},
   "source": [
    "Evidentemente mejoró, pero se puede hacer mejor?"
   ]
  },
  {
   "cell_type": "markdown",
   "metadata": {},
   "source": [
    "## Ejercicio 2"
   ]
  },
  {
   "cell_type": "markdown",
   "metadata": {},
   "source": [
    "Traten de mejorar la cobertura. No hace falta que todas todas las filas tengan el texto del tweet en la columna \"full_text\" pero traten de mejorar el valor que encontramos acá arriba."
   ]
  },
  {
   "cell_type": "code",
   "execution_count": null,
   "metadata": {},
   "outputs": [],
   "source": []
  },
  {
   "cell_type": "markdown",
   "metadata": {},
   "source": [
    "## Ejercicio 3"
   ]
  },
  {
   "cell_type": "markdown",
   "metadata": {},
   "source": [
    "Hacer todo lo mismo pero para los otros dos datasets"
   ]
  },
  {
   "cell_type": "markdown",
   "metadata": {},
   "source": [
    "# Armemos el grafo"
   ]
  },
  {
   "cell_type": "markdown",
   "metadata": {},
   "source": [
    "La idea va a ser la siguiente. Queremos usar la metadata de los tweets para estructurar de alguna manera los datos y después ver qué podemos hacer con eso. La manera más natural de hacer eso parecería ser armar un grafo. El grafo que vamos a armar va a tener a los usuarios de los tweets como nodos. Dos nodos van a estar conectados si alguno de los dos usuarios retweeteo algo del otro"
   ]
  },
  {
   "cell_type": "markdown",
   "metadata": {},
   "source": [
    "Primero queremos quedarnos solamente con los tweets que sean retweets..."
   ]
  },
  {
   "cell_type": "code",
   "execution_count": 156,
   "metadata": {},
   "outputs": [
    {
     "data": {
      "text/plain": [
       "462991"
      ]
     },
     "execution_count": 156,
     "metadata": {},
     "output_type": "execute_result"
    }
   ],
   "source": [
    "retweets = abortion.dropna(subset=[\"tweet.retweeted_status.user.id_str\"]) #Subset lo que hace es me elimina la fila si el nan está en la columna que le paso como parámetro\n",
    "len(retweets[\"tweet.retweeted_status.user.id_str\"])"
   ]
  },
  {
   "cell_type": "markdown",
   "metadata": {},
   "source": [
    "Este es el código para armar un grafo. Como ven no es taaaan complicado. Lo que hacemos es agregar un eje entre dos usuarios si uno retwitea del otro. Cuando agregamos un eje entre dos usuarios el nodo del usuario se agrega automáticamente"
   ]
  },
  {
   "cell_type": "code",
   "execution_count": 164,
   "metadata": {},
   "outputs": [],
   "source": [
    "import networkx as nx\n",
    "\n",
    "full_g = nx.Graph()\n",
    "vertex_ids = set()\n",
    "\n",
    "\n",
    "for user1, user2 in zip(retweets[\"tweet.user.id_str\"], retweets[\"tweet.retweeted_status.user.id_str\"]):\n",
    "    full_g.add_edge(user1, user2)"
   ]
  },
  {
   "cell_type": "markdown",
   "metadata": {},
   "source": [
    "#### Un poco de estadística sobre el grafo"
   ]
  },
  {
   "cell_type": "code",
   "execution_count": 167,
   "metadata": {},
   "outputs": [
    {
     "name": "stdout",
     "output_type": "stream",
     "text": [
      "Nodos: 234656\n",
      "Ejes: 399283\n"
     ]
    }
   ],
   "source": [
    "n = len(full_g.nodes)\n",
    "m = len(full_g.edges)\n",
    "complete = n * (n-1) / 2\n",
    "\n",
    "print(\"Nodos: {:.0f}\".format(n))\n",
    "print(\"Ejes: {:.0f}\".format(m))"
   ]
  },
  {
   "cell_type": "markdown",
   "metadata": {},
   "source": [
    "Este es un gráfico de nodos de acuerdo a su grado. El grado de un nodo es la cantidad de aristas que llegan/salen de él. Lo que nos dice el gráfico es la proporción de usuarios que son \"\"influencers\"\" ponele"
   ]
  },
  {
   "cell_type": "code",
   "execution_count": 168,
   "metadata": {
    "scrolled": true
   },
   "outputs": [
    {
     "data": {
      "image/png": "[encoded data removed]",
      "text/plain": [
       "<Figure size 432x288 with 1 Axes>"
      ]
     },
     "metadata": {
      "needs_background": "light"
     },
     "output_type": "display_data"
    }
   ],
   "source": [
    "%matplotlib inline\n",
    "import numpy as np\n",
    "from matplotlib import pyplot as plt\n",
    "\n",
    "degrees = np.array([full_g.degree(node) for node in full_g.nodes()])\n",
    "\n",
    "plt.hist(degrees, range=(0, 200), bins=100);\n",
    "plt.semilogy();"
   ]
  },
  {
   "cell_type": "markdown",
   "metadata": {},
   "source": [
    "Por ejemplo, acá lo que vemos es que hay 10 usuarios con 200 aristas, es decir, que fueron retwiteados o retwitearon por/de otros 200 usuarios. A la vez, vemos que hay 100000 usuarios (10^5) que no retwitearon ni fueron retwiteados por nadie (al menos por nadie que esté en nuestro dataset)"
   ]
  },
  {
   "cell_type": "markdown",
   "metadata": {},
   "source": [
    "Ahora vamos a recortar un poco el grafo porque sino va a ser imposible trabajar con algo de semejante tamaño"
   ]
  },
  {
   "cell_type": "code",
   "execution_count": 170,
   "metadata": {},
   "outputs": [],
   "source": [
    "def subgraph_strong_nodes(g, n):\n",
    "    \"\"\"\n",
    "    Devuelve subgrafo con nodos de grado mayor a n\n",
    "    \"\"\"\n",
    "    good_nodes = [node for node in g.nodes() if g.degree(node) >= n]\n",
    "    \n",
    "    return g.subgraph(good_nodes)"
   ]
  },
  {
   "cell_type": "markdown",
   "metadata": {},
   "source": [
    "Esta función se queda con los nodos del grafo que tienen grado mayor a n. Es decir, que fueron retwiteados (o retwitearon) por más de 5 personas. La idea es quedarnos con los que más influenciaron."
   ]
  },
  {
   "cell_type": "code",
   "execution_count": 171,
   "metadata": {},
   "outputs": [
    {
     "name": "stdout",
     "output_type": "stream",
     "text": [
      "Nos quedan 0.02M nodos (antes eran 0.23M)\n",
      "Componentes conexas = 901\n"
     ]
    }
   ],
   "source": [
    "g = subgraph_strong_nodes(full_g, 5)\n",
    "\n",
    "print(\"Nos quedan {:.2f}M nodos (antes eran {:.2f}M)\".format(\n",
    "    len(g.nodes) / 1e6,\n",
    "    len(full_g.nodes) / 1e6\n",
    "))\n",
    "print(\"Componentes conexas = {}\".format(len(list(nx.connected_components(g)))))"
   ]
  },
  {
   "cell_type": "markdown",
   "metadata": {},
   "source": [
    "Que es esto de \"componentes conexas\"? Un grafo puede no tener todas sus partes conectadas entre sí. Esto puede ser un problema, veamos cuantos usuarios hay en cada componente:"
   ]
  },
  {
   "cell_type": "code",
   "execution_count": 172,
   "metadata": {},
   "outputs": [
    {
     "name": "stdout",
     "output_type": "stream",
     "text": [
      "Componentes conexas = 901\n",
      "Componente 0  --> 18969  usuarios\n",
      "Restantes     --> 948    usuarios\n"
     ]
    }
   ],
   "source": [
    "components = list(nx.connected_components(g))\n",
    "\n",
    "print(\"Componentes conexas = {}\".format(len(components)))\n",
    "\n",
    "print(\"Componente 0  --> {:<6} usuarios\".format(len(components[0])))\n",
    "\n",
    "resto = [len(components[i]) for i in range(1, len(components))]\n",
    "print(\"Restantes     --> {:<6} usuarios\".format(sum(resto)))"
   ]
  },
  {
   "cell_type": "markdown",
   "metadata": {},
   "source": [
    "O sea que hay una componente con 18969 usuarios y entre todas las otras hay 948 usuarios... Capaz me conviene quedarme sólo con la primera y tirar el resto, así me queda un grafo totalmente conexo con el que puede ser más fácil trabajar"
   ]
  },
  {
   "cell_type": "code",
   "execution_count": 173,
   "metadata": {},
   "outputs": [],
   "source": [
    "g = g.subgraph(components[0])"
   ]
  },
  {
   "cell_type": "markdown",
   "metadata": {},
   "source": [
    "## Ejercicio 4"
   ]
  },
  {
   "cell_type": "markdown",
   "metadata": {},
   "source": [
    "Armar los grafos para los otros corpus"
   ]
  },
  {
   "cell_type": "markdown",
   "metadata": {},
   "source": [
    "## Ejercicio 5"
   ]
  },
  {
   "cell_type": "markdown",
   "metadata": {},
   "source": [
    "Un grafo se arma estableciendo una relación entre dos cosas y representando esa relación con un eje. Nosotros elegimos relacionar usuarios según si se retwitean entre sí. Pero se pueden elegir otros criterios. Incluso se pueden elegir otras cosas para relacionar entre sí (como por ejemplo, los mismos tweets en si!). Les dejo una función que toma dos tweets y devuelve verdader si los tweets tienen más de n palabras en común y falso si no. Se animan a armar un grafo con esta función? Qué información pueden sacar de este grafo? Escriban un texto no muy extenso contando qué hicieron y cualquier cosa que les parezca interesante del resultado o del proceso"
   ]
  },
  {
   "cell_type": "code",
   "execution_count": 174,
   "metadata": {},
   "outputs": [],
   "source": [
    "def tienenMasDeNEnComun(tweet1, tweet2, n):\n",
    "    t1 = set(tweet1.split(\" \"))\n",
    "    t2 = set(tweet2.split(\" \"))\n",
    "    return len(t1.intersection(t2)) > n"
   ]
  },
  {
   "cell_type": "code",
   "execution_count": 177,
   "metadata": {},
   "outputs": [
    {
     "data": {
      "text/plain": [
       "True"
      ]
     },
     "execution_count": 177,
     "metadata": {},
     "output_type": "execute_result"
    }
   ],
   "source": [
    "tienenMasDeNEnComun(\"Juanita tiene un lorito que se llama Pepito\", \"Pepito es un lorito que tiene plumas\", 4)"
   ]
  },
  {
   "cell_type": "markdown",
   "metadata": {},
   "source": [
    "# Graficando"
   ]
  },
  {
   "cell_type": "markdown",
   "metadata": {},
   "source": [
    "Esta parte la idea es que sea **optativa** según cómo lleguen con el resto. Si lo llegan a hacer mejor! Si no, no hay drama. Para graficar la idea es usar un programita que se llama Gephi: https://gephi.org/.\n",
    "***Warning*** GEPHI CONSUME MUCHA MEMORIA ***Warning***\n",
    "Así que poden bien sus grafos"
   ]
  },
  {
   "cell_type": "markdown",
   "metadata": {},
   "source": [
    "La libreria que usamos para generar el grafo (networkx) tiene un comando que exporta un archivo para ser importado en Gephi:"
   ]
  },
  {
   "cell_type": "code",
   "execution_count": null,
   "metadata": {},
   "outputs": [],
   "source": [
    "nx.write_gexf(g, \"test.gexf\")"
   ]
  },
  {
   "cell_type": "markdown",
   "metadata": {},
   "source": [
    "Apenas cargen su grafo van a ver todos los nodos apelotonados en forma de cuadrado en el medio. A la izquierda pueden elegir algún algoritmo de distribución y ejecutarlo. Este algoritmo les va a esparcir los nodos de distintas formas y según distintos criterios. También a la izquierda pero arriba pueden elegir cambiar la apariencia de los nodos y/o las aristas. A mi algo que me parece que siempre queda bien es setear el tamaño de los nodos según el PageRank. El PageRank indica muy a grandes razgos, la centralidad de un nodo (cuantos caminos entre dos nodos distintos tienen que pasar sí o sí por ahi). Por lo tanto, si están graficando usuarios, por ejemplo, el PageRank es cuan central (o \"influencer\" ponele) es el usuario. Si el tamaño depende del PageRank, los nodos más grandes van a ser los \"influencers\". En el Gephi tienen mil cosas para explorar, jueguen un poco y vean qué les gusta y muestrenlo!"
   ]
  }
 ],
 "metadata": {
  "kernelspec": {
   "display_name": "Python 3",
   "language": "python",
   "name": "python3"
  },
  "language_info": {
   "codemirror_mode": {
    "name": "ipython",
    "version": 3
   },
   "file_extension": ".py",
   "mimetype": "text/x-python",
   "name": "python",
   "nbconvert_exporter": "python",
   "pygments_lexer": "ipython3",
   "version": "3.7.3"
  }
 },
 "nbformat": 4,
 "nbformat_minor": 2
}
